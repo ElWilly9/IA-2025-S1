{
 "cells": [
  {
   "cell_type": "code",
   "execution_count": 15,
   "id": "a3f60c55",
   "metadata": {},
   "outputs": [],
   "source": [
    "import gymnasium as gym\n",
    "import matplotlib.pyplot as plt\n",
    "import seaborn as sns\n",
    "import numpy as np"
   ]
  },
  {
   "cell_type": "code",
   "execution_count": 16,
   "id": "e4ea9d6c",
   "metadata": {},
   "outputs": [
    {
     "name": "stdout",
     "output_type": "stream",
     "text": [
      "Número de estados:  Discrete(4)\n",
      "Número de acciones:  Discrete(4)\n"
     ]
    }
   ],
   "source": [
    "#creación del entorno\n",
    "env = gym.make(\"FrozenLake-v1\",desc=[\"SF\", \"FG\"], is_slippery=False, render_mode=\"human\")\n",
    "#Acciones\n",
    "action_names = {0:'Arriba', 1:'Abajo', 2:'Derecha',3:'Izquierda'}\n",
    "\n",
    "print('Número de estados: ', env.observation_space)\n",
    "# acciones: izquierda = 0, abajo = 1, derecha = 2 y arriba = 3\n",
    "print('Número de acciones: ', env.action_space)"
   ]
  },
  {
   "cell_type": "code",
   "execution_count": 17,
   "id": "c443cbbc",
   "metadata": {},
   "outputs": [],
   "source": [
    "env.unwrapped.P = {\n",
    "    0: {  # Estado A\n",
    "        0: [(1.0, 0, -1, False)],                     # arriba → se queda en A\n",
    "        1: [(0.8, 2, -1, False), (0.2, 0, -1, False)], # abajo → C\n",
    "        2: [(0.8, 1, -1, False), (0.2, 0, -1, False)], # derecha → B\n",
    "        3: [(1.0, 0, -1, False)]                      # izquierda → se queda en A\n",
    "    },\n",
    "    1: {  # Estado B\n",
    "        0: [(1.0, 1, -1, False)],                     \n",
    "        1: [(0.8, 3, 10, True), (0.2, 1, -1, False)],  # abajo → D (terminal)\n",
    "        2: [(1.0, 1, -1, False)],                     \n",
    "        3: [(0.8, 0, -1, False), (0.2, 1, -1, False)]\n",
    "    },\n",
    "    2: {  # Estado C\n",
    "        0: [(0.8, 0, -1, False), (0.2, 2, -1, False)],\n",
    "        1: [(1.0, 2, -1, False)],                     \n",
    "        2: [(0.8, 3, 10, True), (0.2, 2, -1, False)],  # derecha → D (terminal)\n",
    "        3: [(1.0, 2, -1, False)]\n",
    "    },\n",
    "    3: {  # Estado D\n",
    "        0: [(1.0, 3, 0, True)],\n",
    "        1: [(1.0, 3, 0, True)],\n",
    "        2: [(1.0, 3, 0, True)],\n",
    "        3: [(1.0, 3, 0, True)]\n",
    "    }\n",
    "}"
   ]
  },
  {
   "cell_type": "code",
   "execution_count": 18,
   "id": "48af0fa0",
   "metadata": {},
   "outputs": [
    {
     "data": {
      "text/plain": [
       "[(0.8, 3, 10, True), (0.2, 1, -1, False)]"
      ]
     },
     "execution_count": 18,
     "metadata": {},
     "output_type": "execute_result"
    }
   ],
   "source": [
    "# La salida es una lista, donde cada entrada representa una de las acciones probables dada la acción elegida con las siguientes variables:\n",
    "# (probabilidad de transición, siguiente estado, recompensa, ¿Es un estado terminal?)\n",
    "env.unwrapped.P[1][1] #(estado actual, acción elegida)"
   ]
  },
  {
   "cell_type": "code",
   "execution_count": 19,
   "id": "b13bb0ab",
   "metadata": {},
   "outputs": [],
   "source": [
    "def policy_evaluation(env, policy_vec, val_fun_vec, conv_tolerance, discount=0.9):\n",
    "    \"\"\"Evaluación de la política\"\"\"\n",
    "    while True:\n",
    "        delta = 0\n",
    "        for state in env.unwrapped.P:\n",
    "            prev_val = val_fun_vec[state]\n",
    "            #Cálculo del retorno esperando\n",
    "            expected_return = sum([prob*(reward + discount*val_fun_vec[next_state]) \n",
    "                                      for prob,next_state,reward,is_terminal_state \n",
    "                                      in env.unwrapped.P[state][policy_vec[state]]])\n",
    "            #Actualización de los valores\n",
    "            val_fun_vec[state] = expected_return\n",
    "            #Actualización de delta\n",
    "            delta = np.max([delta, np.abs(prev_val - val_fun_vec[state])])\n",
    "\n",
    "        if(delta < conv_tolerance):\n",
    "            return policy_vec, val_fun_vec, delta"
   ]
  },
  {
   "cell_type": "code",
   "execution_count": 20,
   "id": "82fad902",
   "metadata": {},
   "outputs": [],
   "source": [
    "def policy_improvement(policy_vec, val_fun_vec, policy_stable_vec, discount=0.9):\n",
    "    \"\"\"Mejoramiento de la política\"\"\"\n",
    "    for state in env.unwrapped.P:\n",
    "        old_action = policy_vec[state]\n",
    "        #Cálculo de los valores de acción\n",
    "        action_values = np.zeros(env.action_space.n)\n",
    "        for action_p in env.unwrapped.P[state]:\n",
    "            action_values[action_p] = sum([prob*(reward + discount*val_fun_vec[next_state]) \n",
    "                                           for prob, next_state, reward, is_terminal_state \n",
    "                                           in env.unwrapped.P[state][action_p]])\n",
    "        #Acción de mayor valor\n",
    "        policy_vec[state] = np.argmax(action_values)\n",
    "        \n",
    "        if old_action == policy_vec[state]:\n",
    "            policy_stable_vec[state] = True\n",
    "            \n",
    "    return policy_vec, policy_stable_vec"
   ]
  },
  {
   "cell_type": "code",
   "execution_count": 21,
   "id": "cfdae878",
   "metadata": {},
   "outputs": [],
   "source": [
    "def policy_iteration(env, discount = 0.9, conv_tolerance=1e-4, max_iterations=100):\n",
    "    \"\"\"Algoritmo de iteración de política\"\"\"\n",
    "    #Vector de estabilidad\n",
    "    policy_stable_vec = np.zeros(env.observation_space.n, dtype=bool)\n",
    "    #Función de valor\n",
    "    val_fun_vec = np.zeros(env.observation_space.n)\n",
    "    #Política\n",
    "    policy_vec = np.ones(env.observation_space.n, dtype=int)\n",
    "    for iterations in range(max_iterations):\n",
    "        #Evaluación de política\n",
    "        policy_vec, val_fun_vec, delta = policy_evaluation(env, policy_vec, val_fun_vec, \n",
    "                                                                       conv_tolerance, discount=discount)\n",
    "        #Mejoramiento de la política\n",
    "        policy_vec, policy_stable_vec = policy_improvement(policy_vec, val_fun_vec, policy_stable_vec, \n",
    "                                                           discount=discount)\n",
    "        \n",
    "        if np.all(policy_stable_vec == True):\n",
    "            return policy_vec, val_fun_vec"
   ]
  },
  {
   "cell_type": "code",
   "execution_count": 22,
   "id": "b8aacadd",
   "metadata": {},
   "outputs": [
    {
     "data": {
      "image/png": "[encoded data removed]",
      "text/plain": [
       "<Figure size 640x480 with 1 Axes>"
      ]
     },
     "metadata": {},
     "output_type": "display_data"
    },
    {
     "data": {
      "image/png": "[encoded data removed]",
      "text/plain": [
       "<Figure size 640x480 with 1 Axes>"
      ]
     },
     "metadata": {},
     "output_type": "display_data"
    }
   ],
   "source": [
    "#ejecución del algoritmo de policy iteration\n",
    "policy_vec, val_fun_vec = policy_iteration(env, discount=0.5)\n",
    "\n",
    "def values_print(valueFunction,reshapeDim=2):\n",
    "    ax = sns.heatmap(valueFunction.reshape(reshapeDim,reshapeDim),annot=True, square=True,cbar=False, \n",
    "                     cmap='Blues',xticklabels=False, yticklabels=False)\n",
    "    plt.title('Función de valor por cada estado')\n",
    "    plt.show()\n",
    "\n",
    "def actions_print(policy_vec,reshapeDim=2):\n",
    "    ax = sns.heatmap(policy_vec.reshape(reshapeDim,reshapeDim),annot=np.array([action_names[a] for a in policy_vec]).reshape(reshapeDim,reshapeDim), \n",
    "                     fmt='',cbar=False, cmap='Oranges',xticklabels=False, yticklabels=False)\n",
    "    plt.title('Política en cada estado')\n",
    "    plt.show()\n",
    "\n",
    "values_print(val_fun_vec)\n",
    "actions_print(policy_vec)"
   ]
  },
  {
   "cell_type": "code",
   "execution_count": 23,
   "id": "7e5b236a",
   "metadata": {},
   "outputs": [
    {
     "name": "stdout",
     "output_type": "stream",
     "text": [
      "Episodio: 1\n",
      "\tAcciones: ['Derecha', 'Abajo'];\n",
      "\tPuntaje: 9\n",
      "Episodio: 2\n",
      "\tAcciones: ['Derecha', 'Abajo'];\n",
      "\tPuntaje: 9\n"
     ]
    }
   ],
   "source": [
    "env.reset()\n",
    "n_episodes_t = 2\n",
    "for e in range(1, n_episodes_t+1):\n",
    "    current_state = env.reset()[0]\n",
    "    done = False\n",
    "    score = 0\n",
    "    actions = []\n",
    "    while done == False:\n",
    "        #Acción ambiciosa\n",
    "        action = policy_vec[current_state]\n",
    "        actions.append(action_names[action])\n",
    "        #Se obtienen los resultados del ambiente por la acción elegida\n",
    "        state, reward, done, _,_= env.step(action)\n",
    "        score += reward\n",
    "        #Se transita al nuevo estado\n",
    "        current_state = state\n",
    "\n",
    "    print('Episodio: {}\\n\\tAcciones: {};\\n\\tPuntaje: {}'.format(e, actions, score))\n",
    "    \n",
    "env.close()"
   ]
  }
 ],
 "metadata": {
  "kernelspec": {
   "display_name": "Ia",
   "language": "python",
   "name": "python3"
  },
  "language_info": {
   "codemirror_mode": {
    "name": "ipython",
    "version": 3
   },
   "file_extension": ".py",
   "mimetype": "text/x-python",
   "name": "python",
   "nbconvert_exporter": "python",
   "pygments_lexer": "ipython3",
   "version": "3.8.20"
  }
 },
 "nbformat": 4,
 "nbformat_minor": 5
}
